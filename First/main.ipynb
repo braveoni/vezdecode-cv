{
 "cells": [
  {
   "cell_type": "code",
   "execution_count": 9,
   "metadata": {},
   "outputs": [],
   "source": [
    "import cv2\n",
    "import os\n",
    "import re"
   ]
  },
  {
   "cell_type": "code",
   "execution_count": 34,
   "metadata": {},
   "outputs": [],
   "source": [
    "def merge_channels(input_dir, output_dir):\n",
    "    images = []\n",
    "    \n",
    "    if not os.path.exists(output_dir):\n",
    "        os.mkdir(output_dir)\n",
    "\n",
    "    for file in os.listdir(input_dir):\n",
    "        images.append(file)\n",
    "\n",
    "        if len(images) == 3:\n",
    "            cvs = [cv2.split(cv2.imread(os.path.join(input_dir, image))) for image in images]\n",
    "\n",
    "            merged = cv2.merge([item[i] for i, item in enumerate(cvs)])\n",
    "            cv2.imwrite(os.path.join(output_dir, re.sub(\"_b\", \"\", images[0])), merged)\n",
    "            images = []"
   ]
  },
  {
   "cell_type": "code",
   "execution_count": 37,
   "metadata": {},
   "outputs": [],
   "source": [
    "merge_channels(\"../dataset/data/\", \"./merged\")"
   ]
  },
  {
   "cell_type": "code",
   "execution_count": null,
   "metadata": {},
   "outputs": [],
   "source": []
  }
 ],
 "metadata": {
  "kernelspec": {
   "display_name": "Python 3.10.4 ('venv': venv)",
   "language": "python",
   "name": "python3"
  },
  "language_info": {
   "codemirror_mode": {
    "name": "ipython",
    "version": 3
   },
   "file_extension": ".py",
   "mimetype": "text/x-python",
   "name": "python",
   "nbconvert_exporter": "python",
   "pygments_lexer": "ipython3",
   "version": "3.10.4"
  },
  "orig_nbformat": 4,
  "vscode": {
   "interpreter": {
    "hash": "a1969ea868df9e8028786eb8f976d758a06b7e36959138063c4a9305baf8e433"
   }
  }
 },
 "nbformat": 4,
 "nbformat_minor": 2
}
