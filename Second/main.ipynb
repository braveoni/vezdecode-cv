{
 "cells": [
  {
   "cell_type": "code",
   "execution_count": 3,
   "metadata": {},
   "outputs": [],
   "source": [
    "import cv2\n",
    "import os\n",
    "import pandas as pd\n",
    "import torch"
   ]
  },
  {
   "cell_type": "code",
   "execution_count": 11,
   "metadata": {},
   "outputs": [
    {
     "name": "stderr",
     "output_type": "stream",
     "text": [
      "Using cache found in C:\\Users\\BraveOni/.cache\\torch\\hub\\ultralytics_yolov5_master\n",
      "\u001b[31m\u001b[1mrequirements:\u001b[0m protobuf<=3.20.1 not found and is required by YOLOv5, attempting auto-update...\n",
      "Collecting protobuf<=3.20.1\n",
      "  Using cached protobuf-3.20.1-cp310-cp310-win_amd64.whl (903 kB)\n",
      "Installing collected packages: protobuf\n",
      "Successfully installed protobuf-3.20.1\n",
      "\n",
      "\u001b[31m\u001b[1mrequirements:\u001b[0m 1 package updated per C:\\Users\\BraveOni\\.cache\\torch\\hub\\ultralytics_yolov5_master\\requirements.txt\n",
      "\u001b[31m\u001b[1mrequirements:\u001b[0m  \u001b[1mRestart runtime or rerun command for updates to take effect\u001b[0m\n",
      "\n",
      "YOLOv5  2022-6-18 Python-3.10.4 torch-1.11.0+cpu CPU\n",
      "\n",
      "Downloading https://github.com/ultralytics/yolov5/releases/download/v6.1/yolov5s.pt to yolov5s.pt...\n",
      "100.0%\n",
      "\n",
      "Fusing layers... \n",
      "YOLOv5s summary: 213 layers, 7225885 parameters, 0 gradients\n",
      "Adding AutoShape... \n"
     ]
    }
   ],
   "source": [
    "model = torch.hub.load(\"ultralytics/yolov5\", \"yolov5s\")"
   ]
  },
  {
   "cell_type": "code",
   "execution_count": 44,
   "metadata": {},
   "outputs": [],
   "source": [
    "def find_car(input_dir, output_cars=\"output.csv\"):\n",
    "    df = {}\n",
    "\n",
    "    if os.path.exists(input_dir):\n",
    "        for file in os.listdir(input_dir):\n",
    "            result = model(os.path.join(input_dir, file))\n",
    "            \n",
    "            df[file] =  True if \"car\" in result.pandas().xyxy[0][\"name\"].tolist() else False\n",
    "\n",
    "    df = pd.DataFrame(\n",
    "        {\n",
    "            \"filename\": list(df.keys()),\n",
    "            \"value\": list(df.values())\n",
    "        }\n",
    "    )\n",
    "\n",
    "    df.to_csv(output_cars, index=False)"
   ]
  },
  {
   "cell_type": "code",
   "execution_count": 45,
   "metadata": {},
   "outputs": [],
   "source": [
    "find_car(\"./merged/\")"
   ]
  },
  {
   "cell_type": "code",
   "execution_count": null,
   "metadata": {},
   "outputs": [],
   "source": []
  }
 ],
 "metadata": {
  "kernelspec": {
   "display_name": "Python 3.10.4 ('venv': venv)",
   "language": "python",
   "name": "python3"
  },
  "language_info": {
   "codemirror_mode": {
    "name": "ipython",
    "version": 3
   },
   "file_extension": ".py",
   "mimetype": "text/x-python",
   "name": "python",
   "nbconvert_exporter": "python",
   "pygments_lexer": "ipython3",
   "version": "3.10.4"
  },
  "orig_nbformat": 4,
  "vscode": {
   "interpreter": {
    "hash": "a1969ea868df9e8028786eb8f976d758a06b7e36959138063c4a9305baf8e433"
   }
  }
 },
 "nbformat": 4,
 "nbformat_minor": 2
}
