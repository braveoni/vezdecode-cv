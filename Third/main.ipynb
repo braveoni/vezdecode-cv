{
 "cells": [
  {
   "cell_type": "code",
   "execution_count": 1,
   "metadata": {},
   "outputs": [],
   "source": [
    "import cv2\n",
    "from sklearn.cluster import KMeans\n",
    "import matplotlib.pyplot as plt\n",
    "import matplotlib.image as mpimg"
   ]
  },
  {
   "cell_type": "code",
   "execution_count": 2,
   "metadata": {},
   "outputs": [],
   "source": [
    "ctl = KMeans(n_clusters=1)"
   ]
  },
  {
   "cell_type": "code",
   "execution_count": 18,
   "metadata": {},
   "outputs": [],
   "source": [
    "def calc_metric(image, x, y, w, h):\n",
    "    image = image[y:y + h, x:x+w]\n",
    "    img = cv2.cvtColor(image, cv2.COLOR_BGR2RGB)\n",
    "    \n",
    "    image = image.reshape((image.shape[0] * image.shape[1], 3))\n",
    "    labels = ctl.fit_predict(image)\n",
    "    \n",
    "    label_counts = Counter(labels)\n",
    "\n",
    "    dominant_color = ctl.cluster_centers_[label_counts.most_common(1)[0][0]]\n",
    "    \n",
    "    ctl.fit(img.reshape(-1, 3))\n",
    "\n",
    "    print(ctl.cluster_centers_)\n",
    "\n",
    "    plt.imshow(img)\n",
    "    plt.show()\n",
    "\n",
    "    return dominant_color.round()    "
   ]
  },
  {
   "cell_type": "code",
   "execution_count": 21,
   "metadata": {},
   "outputs": [
    {
     "name": "stdout",
     "output_type": "stream",
     "text": [
      "[[131.03818779 131.03818779 131.03818779]]\n"
     ]
    },
    {
     "data": {
      "image/png": "[encoded data removed]",
      "text/plain": [
       "<Figure size 432x288 with 1 Axes>"
      ]
     },
     "metadata": {
      "needs_background": "light"
     },
     "output_type": "display_data"
    },
    {
     "data": {
      "text/plain": [
       "array([125., 130., 138.])"
      ]
     },
     "execution_count": 21,
     "metadata": {},
     "output_type": "execute_result"
    }
   ],
   "source": [
    "img = cv2.imread(\"test.jpg\")\n",
    "calc_metric(img, 0, 0, 1000, 500)"
   ]
  },
  {
   "cell_type": "markdown",
   "metadata": {},
   "source": [
    "KMeans\n",
    "\n",
    "my - [[138 130 125]]\n",
    "\n",
    "current - [[192 192 194]]\n",
    "\n",
    "***\n",
    "\n",
    "DBScan\n",
    "\n"
   ]
  },
  {
   "cell_type": "code",
   "execution_count": null,
   "metadata": {},
   "outputs": [],
   "source": []
  }
 ],
 "metadata": {
  "kernelspec": {
   "display_name": "Python 3.10.4 ('venv': venv)",
   "language": "python",
   "name": "python3"
  },
  "language_info": {
   "codemirror_mode": {
    "name": "ipython",
    "version": 3
   },
   "file_extension": ".py",
   "mimetype": "text/x-python",
   "name": "python",
   "nbconvert_exporter": "python",
   "pygments_lexer": "ipython3",
   "version": "3.10.4"
  },
  "orig_nbformat": 4,
  "vscode": {
   "interpreter": {
    "hash": "a1969ea868df9e8028786eb8f976d758a06b7e36959138063c4a9305baf8e433"
   }
  }
 },
 "nbformat": 4,
 "nbformat_minor": 2
}
